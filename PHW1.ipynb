{
 "cells": [
  {
   "cell_type": "code",
   "execution_count": 1,
   "metadata": {
    "ExecuteTime": {
     "end_time": "2021-11-12T17:03:10.627972Z",
     "start_time": "2021-11-12T17:03:08.499104Z"
    }
   },
   "outputs": [],
   "source": [
    "import numpy as np\n",
    "import pandas as pd\n",
    "from sklearn.preprocessing import StandardScaler, MinMaxScaler, RobustScaler, MaxAbsScaler\n",
    "from sklearn.model_selection import train_test_split\n",
    "from sklearn.model_selection import GridSearchCV\n",
    "from sklearn.linear_model import LogisticRegression\n",
    "from sklearn.tree import DecisionTreeClassifier\n",
    "from sklearn.svm import SVC\n",
    "from sklearn.metrics import accuracy_score\n",
    "from imblearn.over_sampling import SMOTE"
   ]
  },
  {
   "cell_type": "code",
   "execution_count": 2,
   "metadata": {
    "ExecuteTime": {
     "end_time": "2021-11-12T17:03:10.675967Z",
     "start_time": "2021-11-12T17:03:10.629967Z"
    }
   },
   "outputs": [
    {
     "data": {
      "text/html": [
       "<div>\n",
       "<style scoped>\n",
       "    .dataframe tbody tr th:only-of-type {\n",
       "        vertical-align: middle;\n",
       "    }\n",
       "\n",
       "    .dataframe tbody tr th {\n",
       "        vertical-align: top;\n",
       "    }\n",
       "\n",
       "    .dataframe thead th {\n",
       "        text-align: right;\n",
       "    }\n",
       "</style>\n",
       "<table border=\"1\" class=\"dataframe\">\n",
       "  <thead>\n",
       "    <tr style=\"text-align: right;\">\n",
       "      <th></th>\n",
       "      <th>clump_thickness</th>\n",
       "      <th>size_uniformity</th>\n",
       "      <th>shape_uniformity</th>\n",
       "      <th>marginal_adhesion</th>\n",
       "      <th>epithelial_size</th>\n",
       "      <th>bare_nucleoli</th>\n",
       "      <th>bland_chromatin</th>\n",
       "      <th>normal_nucleoli</th>\n",
       "      <th>mitoses</th>\n",
       "      <th>class</th>\n",
       "    </tr>\n",
       "    <tr>\n",
       "      <th>ID</th>\n",
       "      <th></th>\n",
       "      <th></th>\n",
       "      <th></th>\n",
       "      <th></th>\n",
       "      <th></th>\n",
       "      <th></th>\n",
       "      <th></th>\n",
       "      <th></th>\n",
       "      <th></th>\n",
       "      <th></th>\n",
       "    </tr>\n",
       "  </thead>\n",
       "  <tbody>\n",
       "    <tr>\n",
       "      <th>1000025</th>\n",
       "      <td>5</td>\n",
       "      <td>1</td>\n",
       "      <td>1</td>\n",
       "      <td>1</td>\n",
       "      <td>2</td>\n",
       "      <td>1</td>\n",
       "      <td>3</td>\n",
       "      <td>1</td>\n",
       "      <td>1</td>\n",
       "      <td>2</td>\n",
       "    </tr>\n",
       "    <tr>\n",
       "      <th>1002945</th>\n",
       "      <td>5</td>\n",
       "      <td>4</td>\n",
       "      <td>4</td>\n",
       "      <td>5</td>\n",
       "      <td>7</td>\n",
       "      <td>10</td>\n",
       "      <td>3</td>\n",
       "      <td>2</td>\n",
       "      <td>1</td>\n",
       "      <td>2</td>\n",
       "    </tr>\n",
       "    <tr>\n",
       "      <th>1015425</th>\n",
       "      <td>3</td>\n",
       "      <td>1</td>\n",
       "      <td>1</td>\n",
       "      <td>1</td>\n",
       "      <td>2</td>\n",
       "      <td>2</td>\n",
       "      <td>3</td>\n",
       "      <td>1</td>\n",
       "      <td>1</td>\n",
       "      <td>2</td>\n",
       "    </tr>\n",
       "    <tr>\n",
       "      <th>1016277</th>\n",
       "      <td>6</td>\n",
       "      <td>8</td>\n",
       "      <td>8</td>\n",
       "      <td>1</td>\n",
       "      <td>3</td>\n",
       "      <td>4</td>\n",
       "      <td>3</td>\n",
       "      <td>7</td>\n",
       "      <td>1</td>\n",
       "      <td>2</td>\n",
       "    </tr>\n",
       "    <tr>\n",
       "      <th>1017023</th>\n",
       "      <td>4</td>\n",
       "      <td>1</td>\n",
       "      <td>1</td>\n",
       "      <td>3</td>\n",
       "      <td>2</td>\n",
       "      <td>1</td>\n",
       "      <td>3</td>\n",
       "      <td>1</td>\n",
       "      <td>1</td>\n",
       "      <td>2</td>\n",
       "    </tr>\n",
       "    <tr>\n",
       "      <th>...</th>\n",
       "      <td>...</td>\n",
       "      <td>...</td>\n",
       "      <td>...</td>\n",
       "      <td>...</td>\n",
       "      <td>...</td>\n",
       "      <td>...</td>\n",
       "      <td>...</td>\n",
       "      <td>...</td>\n",
       "      <td>...</td>\n",
       "      <td>...</td>\n",
       "    </tr>\n",
       "    <tr>\n",
       "      <th>776715</th>\n",
       "      <td>3</td>\n",
       "      <td>1</td>\n",
       "      <td>1</td>\n",
       "      <td>1</td>\n",
       "      <td>3</td>\n",
       "      <td>2</td>\n",
       "      <td>1</td>\n",
       "      <td>1</td>\n",
       "      <td>1</td>\n",
       "      <td>2</td>\n",
       "    </tr>\n",
       "    <tr>\n",
       "      <th>841769</th>\n",
       "      <td>2</td>\n",
       "      <td>1</td>\n",
       "      <td>1</td>\n",
       "      <td>1</td>\n",
       "      <td>2</td>\n",
       "      <td>1</td>\n",
       "      <td>1</td>\n",
       "      <td>1</td>\n",
       "      <td>1</td>\n",
       "      <td>2</td>\n",
       "    </tr>\n",
       "    <tr>\n",
       "      <th>888820</th>\n",
       "      <td>5</td>\n",
       "      <td>10</td>\n",
       "      <td>10</td>\n",
       "      <td>3</td>\n",
       "      <td>7</td>\n",
       "      <td>3</td>\n",
       "      <td>8</td>\n",
       "      <td>10</td>\n",
       "      <td>2</td>\n",
       "      <td>4</td>\n",
       "    </tr>\n",
       "    <tr>\n",
       "      <th>897471</th>\n",
       "      <td>4</td>\n",
       "      <td>8</td>\n",
       "      <td>6</td>\n",
       "      <td>4</td>\n",
       "      <td>3</td>\n",
       "      <td>4</td>\n",
       "      <td>10</td>\n",
       "      <td>6</td>\n",
       "      <td>1</td>\n",
       "      <td>4</td>\n",
       "    </tr>\n",
       "    <tr>\n",
       "      <th>897471</th>\n",
       "      <td>4</td>\n",
       "      <td>8</td>\n",
       "      <td>8</td>\n",
       "      <td>5</td>\n",
       "      <td>4</td>\n",
       "      <td>5</td>\n",
       "      <td>10</td>\n",
       "      <td>4</td>\n",
       "      <td>1</td>\n",
       "      <td>4</td>\n",
       "    </tr>\n",
       "  </tbody>\n",
       "</table>\n",
       "<p>699 rows × 10 columns</p>\n",
       "</div>"
      ],
      "text/plain": [
       "         clump_thickness  size_uniformity  shape_uniformity  \\\n",
       "ID                                                            \n",
       "1000025                5                1                 1   \n",
       "1002945                5                4                 4   \n",
       "1015425                3                1                 1   \n",
       "1016277                6                8                 8   \n",
       "1017023                4                1                 1   \n",
       "...                  ...              ...               ...   \n",
       "776715                 3                1                 1   \n",
       "841769                 2                1                 1   \n",
       "888820                 5               10                10   \n",
       "897471                 4                8                 6   \n",
       "897471                 4                8                 8   \n",
       "\n",
       "         marginal_adhesion  epithelial_size bare_nucleoli  bland_chromatin  \\\n",
       "ID                                                                           \n",
       "1000025                  1                2             1                3   \n",
       "1002945                  5                7            10                3   \n",
       "1015425                  1                2             2                3   \n",
       "1016277                  1                3             4                3   \n",
       "1017023                  3                2             1                3   \n",
       "...                    ...              ...           ...              ...   \n",
       "776715                   1                3             2                1   \n",
       "841769                   1                2             1                1   \n",
       "888820                   3                7             3                8   \n",
       "897471                   4                3             4               10   \n",
       "897471                   5                4             5               10   \n",
       "\n",
       "         normal_nucleoli  mitoses  class  \n",
       "ID                                        \n",
       "1000025                1        1      2  \n",
       "1002945                2        1      2  \n",
       "1015425                1        1      2  \n",
       "1016277                7        1      2  \n",
       "1017023                1        1      2  \n",
       "...                  ...      ...    ...  \n",
       "776715                 1        1      2  \n",
       "841769                 1        1      2  \n",
       "888820                10        2      4  \n",
       "897471                 6        1      4  \n",
       "897471                 4        1      4  \n",
       "\n",
       "[699 rows x 10 columns]"
      ]
     },
     "execution_count": 2,
     "metadata": {},
     "output_type": "execute_result"
    }
   ],
   "source": [
    "df = pd.read_table(\"breast-cancer-wisconsin.data\",sep=\",\",header=None)\n",
    "df.columns=['ID','clump_thickness','size_uniformity','shape_uniformity',\n",
    "           'marginal_adhesion','epithelial_size','bare_nucleoli',\n",
    "           'bland_chromatin','normal_nucleoli','mitoses','class']\n",
    "df.set_index('ID',inplace=True)\n",
    "df"
   ]
  },
  {
   "cell_type": "code",
   "execution_count": 3,
   "metadata": {
    "ExecuteTime": {
     "end_time": "2021-11-12T17:03:10.723967Z",
     "start_time": "2021-11-12T17:03:10.678967Z"
    },
    "scrolled": false
   },
   "outputs": [
    {
     "name": "stdout",
     "output_type": "stream",
     "text": [
      "       clump_thickness  size_uniformity  shape_uniformity  marginal_adhesion  \\\n",
      "count       699.000000       699.000000        699.000000         699.000000   \n",
      "mean          4.417740         3.134478          3.207439           2.806867   \n",
      "std           2.815741         3.051459          2.971913           2.855379   \n",
      "min           1.000000         1.000000          1.000000           1.000000   \n",
      "25%           2.000000         1.000000          1.000000           1.000000   \n",
      "50%           4.000000         1.000000          1.000000           1.000000   \n",
      "75%           6.000000         5.000000          5.000000           4.000000   \n",
      "max          10.000000        10.000000         10.000000          10.000000   \n",
      "\n",
      "       epithelial_size  bland_chromatin  normal_nucleoli     mitoses  \\\n",
      "count       699.000000       699.000000       699.000000  699.000000   \n",
      "mean          3.216023         3.437768         2.866953    1.589413   \n",
      "std           2.214300         2.438364         3.053634    1.715078   \n",
      "min           1.000000         1.000000         1.000000    1.000000   \n",
      "25%           2.000000         2.000000         1.000000    1.000000   \n",
      "50%           2.000000         3.000000         1.000000    1.000000   \n",
      "75%           4.000000         5.000000         4.000000    1.000000   \n",
      "max          10.000000        10.000000        10.000000   10.000000   \n",
      "\n",
      "            class  \n",
      "count  699.000000  \n",
      "mean     2.689557  \n",
      "std      0.951273  \n",
      "min      2.000000  \n",
      "25%      2.000000  \n",
      "50%      2.000000  \n",
      "75%      4.000000  \n",
      "max      4.000000  \n"
     ]
    }
   ],
   "source": [
    "print(df.describe())"
   ]
  },
  {
   "cell_type": "code",
   "execution_count": 4,
   "metadata": {
    "ExecuteTime": {
     "end_time": "2021-11-12T17:03:10.739978Z",
     "start_time": "2021-11-12T17:03:10.724967Z"
    }
   },
   "outputs": [
    {
     "name": "stdout",
     "output_type": "stream",
     "text": [
      "<class 'pandas.core.frame.DataFrame'>\n",
      "Int64Index: 699 entries, 1000025 to 897471\n",
      "Data columns (total 10 columns):\n",
      " #   Column             Non-Null Count  Dtype \n",
      "---  ------             --------------  ----- \n",
      " 0   clump_thickness    699 non-null    int64 \n",
      " 1   size_uniformity    699 non-null    int64 \n",
      " 2   shape_uniformity   699 non-null    int64 \n",
      " 3   marginal_adhesion  699 non-null    int64 \n",
      " 4   epithelial_size    699 non-null    int64 \n",
      " 5   bare_nucleoli      699 non-null    object\n",
      " 6   bland_chromatin    699 non-null    int64 \n",
      " 7   normal_nucleoli    699 non-null    int64 \n",
      " 8   mitoses            699 non-null    int64 \n",
      " 9   class              699 non-null    int64 \n",
      "dtypes: int64(9), object(1)\n",
      "memory usage: 60.1+ KB\n",
      "None\n"
     ]
    }
   ],
   "source": [
    "print(df.info())"
   ]
  },
  {
   "cell_type": "code",
   "execution_count": 5,
   "metadata": {
    "ExecuteTime": {
     "end_time": "2021-11-12T17:03:10.755973Z",
     "start_time": "2021-11-12T17:03:10.744970Z"
    }
   },
   "outputs": [
    {
     "name": "stdout",
     "output_type": "stream",
     "text": [
      "['1' '10' '2' '4' '3' '9' '7' '?' '5' '8' '6']\n"
     ]
    }
   ],
   "source": [
    "print(df['bare_nucleoli'].unique())"
   ]
  },
  {
   "cell_type": "code",
   "execution_count": 6,
   "metadata": {
    "ExecuteTime": {
     "end_time": "2021-11-12T17:03:10.802706Z",
     "start_time": "2021-11-12T17:03:10.763974Z"
    }
   },
   "outputs": [],
   "source": [
    "df.replace(\"?\",np.nan,inplace=True)\n",
    "df.dropna(axis=0,inplace=True)"
   ]
  },
  {
   "cell_type": "code",
   "execution_count": 7,
   "metadata": {
    "ExecuteTime": {
     "end_time": "2021-11-12T17:03:10.818713Z",
     "start_time": "2021-11-12T17:03:10.804711Z"
    }
   },
   "outputs": [
    {
     "name": "stdout",
     "output_type": "stream",
     "text": [
      "clump_thickness      0\n",
      "size_uniformity      0\n",
      "shape_uniformity     0\n",
      "marginal_adhesion    0\n",
      "epithelial_size      0\n",
      "bare_nucleoli        0\n",
      "bland_chromatin      0\n",
      "normal_nucleoli      0\n",
      "mitoses              0\n",
      "class                0\n",
      "dtype: int64\n"
     ]
    }
   ],
   "source": [
    "print(df.isna().sum())"
   ]
  },
  {
   "cell_type": "code",
   "execution_count": 8,
   "metadata": {
    "ExecuteTime": {
     "end_time": "2021-11-12T17:03:10.834712Z",
     "start_time": "2021-11-12T17:03:10.822726Z"
    }
   },
   "outputs": [],
   "source": [
    "X = df.drop('class',axis=1)\n",
    "y = df['class']"
   ]
  },
  {
   "cell_type": "code",
   "execution_count": 9,
   "metadata": {
    "ExecuteTime": {
     "end_time": "2021-11-12T17:03:10.850720Z",
     "start_time": "2021-11-12T17:03:10.838711Z"
    }
   },
   "outputs": [
    {
     "name": "stdout",
     "output_type": "stream",
     "text": [
      "2    444\n",
      "4    239\n",
      "Name: class, dtype: int64\n"
     ]
    }
   ],
   "source": [
    "print(y.value_counts())\n",
    "from sklearn.metrics import accuracy_score"
   ]
  },
  {
   "cell_type": "code",
   "execution_count": 10,
   "metadata": {
    "ExecuteTime": {
     "end_time": "2021-11-12T17:09:26.882532Z",
     "start_time": "2021-11-12T17:03:10.852713Z"
    },
    "code_folding": [],
    "scrolled": false
   },
   "outputs": [
    {
     "name": "stdout",
     "output_type": "stream",
     "text": [
      "Fitting 5 folds for each of 6080 candidates, totalling 30400 fits\n",
      "Fitting 5 folds for each of 6080 candidates, totalling 30400 fits\n",
      "Fitting 5 folds for each of 10 candidates, totalling 50 fits\n"
     ]
    },
    {
     "name": "stderr",
     "output_type": "stream",
     "text": [
      "C:\\Users\\YOONSU\\anaconda3\\lib\\site-packages\\sklearn\\linear_model\\_logistic.py:1322: UserWarning: Setting penalty='none' will ignore the C and l1_ratio parameters\n",
      "  warnings.warn(\n"
     ]
    },
    {
     "name": "stdout",
     "output_type": "stream",
     "text": [
      "Fitting 5 folds for each of 40 candidates, totalling 200 fits\n",
      "==========Standard Scaling==========\n",
      "DecisionTree(Gini)\n",
      " best_parameter: {'max_depth': 3, 'max_features': 5, 'max_leaf_nodes': 53, 'min_samples_split': 4}\n",
      "score: 0.9343065693430657\n",
      "DecisionTree(Entropy)\n",
      " best_parameter: {'max_depth': 5, 'max_features': 3, 'max_leaf_nodes': 44, 'min_samples_split': 2}\n",
      "score: 0.9562043795620438\n",
      "LogisticRegression \n",
      " best_parameter: {'C': 0.01, 'penalty': 'none'}\n",
      "score: 0.9781021897810219\n",
      "SVC \n",
      " best_parameter: {'C': 10.0, 'kernel': 'linear'}\n",
      "score: 0.9635036496350365\n",
      "Fitting 5 folds for each of 6080 candidates, totalling 30400 fits\n",
      "Fitting 5 folds for each of 6080 candidates, totalling 30400 fits\n",
      "Fitting 5 folds for each of 10 candidates, totalling 50 fits\n",
      "Fitting 5 folds for each of 40 candidates, totalling 200 fits\n",
      "==========MinMax Scaling==========\n",
      "DecisionTree(Gini)\n",
      " best_parameter: {'max_depth': 3, 'max_features': 5, 'max_leaf_nodes': 89, 'min_samples_split': 2}\n",
      "score: 0.9343065693430657\n",
      "DecisionTree(Entropy)\n",
      " best_parameter: {'max_depth': 3, 'max_features': 3, 'max_leaf_nodes': 41, 'min_samples_split': 2}\n",
      "score: 0.9124087591240876\n",
      "LogisticRegression \n",
      " best_parameter: {'C': 1.0, 'penalty': 'l2'}\n",
      "score: 0.9562043795620438\n",
      "SVC \n",
      " best_parameter: {'C': 3.0, 'gamma': 0.1, 'kernel': 'rbf'}\n",
      "score: 0.9854014598540146\n",
      "Fitting 5 folds for each of 6080 candidates, totalling 30400 fits\n",
      "Fitting 5 folds for each of 6080 candidates, totalling 30400 fits\n",
      "Fitting 5 folds for each of 10 candidates, totalling 50 fits\n",
      "Fitting 5 folds for each of 40 candidates, totalling 200 fits\n",
      "==========MaxAbs Scaling==========\n",
      "DecisionTree(Gini)\n",
      " best_parameter: {'max_depth': 5, 'max_features': 7, 'max_leaf_nodes': 95, 'min_samples_split': 2}\n",
      "score: 0.9197080291970803\n",
      "DecisionTree(Entropy)\n",
      " best_parameter: {'max_depth': 3, 'max_features': 7, 'max_leaf_nodes': 22, 'min_samples_split': 5}\n",
      "score: 0.927007299270073\n",
      "LogisticRegression \n",
      " best_parameter: {'C': 1.0, 'penalty': 'l2'}\n",
      "score: 0.9562043795620438\n",
      "SVC \n",
      " best_parameter: {'C': 3.0, 'gamma': 1.0, 'kernel': 'rbf'}\n",
      "score: 0.9781021897810219\n",
      "Fitting 5 folds for each of 6080 candidates, totalling 30400 fits\n",
      "Fitting 5 folds for each of 6080 candidates, totalling 30400 fits\n",
      "Fitting 5 folds for each of 10 candidates, totalling 50 fits\n",
      "Fitting 5 folds for each of 40 candidates, totalling 200 fits\n",
      "==========Robust Scaling==========\n",
      "DecisionTree(Gini)\n",
      " best_parameter: {'max_depth': 9, 'max_features': 3, 'max_leaf_nodes': 9, 'min_samples_split': 5}\n",
      "score: 0.9562043795620438\n",
      "DecisionTree(Entropy)\n",
      " best_parameter: {'max_depth': 3, 'max_features': 5, 'max_leaf_nodes': 60, 'min_samples_split': 2}\n",
      "score: 0.9635036496350365\n",
      "LogisticRegression \n",
      " best_parameter: {'C': 1.0, 'penalty': 'l2'}\n",
      "score: 0.9635036496350365\n",
      "SVC \n",
      " best_parameter: {'C': 300.0, 'gamma': 0.03, 'kernel': 'rbf'}\n",
      "score: 0.9635036496350365\n"
     ]
    }
   ],
   "source": [
    "def FindBestModel(X,y,Scalers):\n",
    "    \n",
    "    scaled_X = []\n",
    "    for key, scaler in Scalers.items():\n",
    "        X_scale = pd.DataFrame(scaler.fit_transform(X),columns=X.columns)\n",
    "        scaled_X.append(X_scale)\n",
    "\n",
    "    for i in range(len(scaled_X)):\n",
    "        X_train, X_test, y_train, y_test = train_test_split(scaled_X[i],y,test_size=0.2,random_state=42)\n",
    "        \n",
    "        oversample = SMOTE()\n",
    "        \n",
    "        X_balanced, y_balanced = oversample.fit_resample(X_train, y_train)\n",
    "        \n",
    "        grid_params_dt = {\n",
    "            'min_samples_split':[2,3,4,5],\n",
    "            'max_features':[3,5,7,9],\n",
    "            'max_depth':[3,5,7,9],\n",
    "            'max_leaf_nodes':list(range(5,100))\n",
    "        }\n",
    "        \n",
    "        grid_params_lr = {\n",
    "            'penalty':['l2','none'],\n",
    "            'C':[0.01,0.1,1.,3.,5.0]\n",
    "        }\n",
    "\n",
    "        grid_params_svm = [\n",
    "            {'kernel':['linear'],'C':[10.,30.,100.,300.0]},\n",
    "            {'kernel':['rbf'],'C':[1.0,3.0,10.,30.,100.,300.0],\n",
    "                 'gamma':[0.01,0.03,0.1,0.3,1.0,3.0]}\n",
    "        ]\n",
    "        gs_dt_gini = GridSearchCV(DecisionTreeClassifier(criterion=\"gini\"),grid_params_dt,verbose=1,cv=5,n_jobs=-1)\n",
    "        gs_dt_gini.fit(X_balanced, y_balanced)\n",
    "        dt_gini_score = gs_dt_gini.score(X_test,y_test)\n",
    "        \n",
    "        gs_dt_entropy = GridSearchCV(DecisionTreeClassifier(criterion=\"entropy\"),grid_params_dt,verbose=1,cv=5,n_jobs=-1)\n",
    "        gs_dt_entropy.fit(X_balanced, y_balanced)\n",
    "        dt_entropy_score = gs_dt_entropy.score(X_test,y_test)\n",
    "        \n",
    "        gs_lr = GridSearchCV(LogisticRegression(), grid_params_lr,verbose=1,cv=5,n_jobs=-1)\n",
    "        gs_lr.fit(X_balanced, y_balanced)\n",
    "        lr_score = gs_lr.score(X_test,y_test)\n",
    "        \n",
    "        gs_svm = GridSearchCV(SVC(),grid_params_svm,cv=5,verbose=1,n_jobs=-1)\n",
    "        gs_svm.fit(X_balanced, y_balanced)\n",
    "        svm_score = gs_svm.score(X_test,y_test)\n",
    "        \n",
    "        if i==0:\n",
    "            print(\"==========Standard Scaling==========\")\n",
    "        elif i==1:\n",
    "            print(\"==========MinMax Scaling==========\")\n",
    "        elif i==2:\n",
    "            print(\"==========MaxAbs Scaling==========\")\n",
    "        elif i==3:\n",
    "            print(\"==========Robust Scaling==========\")\n",
    "            \n",
    "        print(\"DecisionTree(Gini)\\n best_parameter:\",gs_dt_gini.best_params_)\n",
    "        print(\"score:\",dt_gini_score)\n",
    "        print(\"DecisionTree(Entropy)\\n best_parameter:\",gs_dt_entropy.best_params_)\n",
    "        print(\"score:\",dt_entropy_score)\n",
    "        print(\"LogisticRegression \\n best_parameter:\",gs_lr.best_params_)\n",
    "        print(\"score:\",lr_score)\n",
    "        print(\"SVC \\n best_parameter:\",gs_svm.best_params_)\n",
    "        print(\"score:\",svm_score)\n",
    "\n",
    "\n",
    "Scalers = {\n",
    "    'StandardScaler':StandardScaler(),\n",
    "    'MinMaxScaler':MinMaxScaler(),\n",
    "    'MaxAbsScaler':MaxAbsScaler(),\n",
    "    'RobustScaler':RobustScaler()\n",
    "}\n",
    "\n",
    "    \n",
    "FindBestModel(X,y, Scalers)"
   ]
  }
 ],
 "metadata": {
  "hide_input": false,
  "kernelspec": {
   "display_name": "Python 3",
   "language": "python",
   "name": "python3"
  },
  "language_info": {
   "codemirror_mode": {
    "name": "ipython",
    "version": 3
   },
   "file_extension": ".py",
   "mimetype": "text/x-python",
   "name": "python",
   "nbconvert_exporter": "python",
   "pygments_lexer": "ipython3",
   "version": "3.8.5"
  },
  "toc": {
   "base_numbering": 1,
   "nav_menu": {},
   "number_sections": true,
   "sideBar": true,
   "skip_h1_title": false,
   "title_cell": "Table of Contents",
   "title_sidebar": "Contents",
   "toc_cell": false,
   "toc_position": {},
   "toc_section_display": true,
   "toc_window_display": false
  },
  "varInspector": {
   "cols": {
    "lenName": 16,
    "lenType": 16,
    "lenVar": 40
   },
   "kernels_config": {
    "python": {
     "delete_cmd_postfix": "",
     "delete_cmd_prefix": "del ",
     "library": "var_list.py",
     "varRefreshCmd": "print(var_dic_list())"
    },
    "r": {
     "delete_cmd_postfix": ") ",
     "delete_cmd_prefix": "rm(",
     "library": "var_list.r",
     "varRefreshCmd": "cat(var_dic_list()) "
    }
   },
   "types_to_exclude": [
    "module",
    "function",
    "builtin_function_or_method",
    "instance",
    "_Feature"
   ],
   "window_display": false
  }
 },
 "nbformat": 4,
 "nbformat_minor": 4
}
